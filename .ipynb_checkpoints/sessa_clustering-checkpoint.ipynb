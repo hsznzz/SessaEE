{
 "cells": [
  {
   "cell_type": "code",
   "execution_count": null,
   "id": "2eec74f4",
   "metadata": {},
   "outputs": [],
   "source": [
    "import numpy as np\n",
    "import pandas as pd\n",
    "import matplotlib.pyplot as plt\n",
    "import seaborn as sns\n",
    "from sklearn.preprocessing import StandardScaler\n",
    "from sklearn.cluster import KMeans, DBSCAN\n",
    "from sklearn.metrics import silhouette_score\n",
    "\n",
    "# Set random seed for reproducibility\n",
    "np.random.seed(42)"
   ]
  },
  {
   "cell_type": "code",
   "execution_count": null,
   "id": "7ab24669",
   "metadata": {},
   "outputs": [],
   "source": [
    "# Load dataset (update path if needed)\n",
    "file_path = \"/mnt/data/ATC_med_events.csv\"\n",
    "df = pd.read_csv(file_path)\n",
    "\n",
    "# Display first few rows\n",
    "df.head()"
   ]
  },
  {
   "cell_type": "code",
   "execution_count": null,
   "id": "bf1d1d1b",
   "metadata": {},
   "outputs": [],
   "source": [
    "# Rename columns for consistency (Modify based on actual dataset columns)\n",
    "df.columns = [\"patient_id\", \"date\", \"per_day\", \"ATC\", \"duration\"]\n",
    "\n",
    "# Convert date column to datetime format\n",
    "df['date'] = pd.to_datetime(df['date'])\n",
    "\n",
    "df.head()"
   ]
  },
  {
   "cell_type": "code",
   "execution_count": null,
   "id": "3df29a30",
   "metadata": {},
   "outputs": [],
   "source": [
    "# Define function to calculate gaps\n",
    "def calculate_gaps(df):\n",
    "    df = df.sort_values(by=['patient_id', 'date'])\n",
    "    df['gap_days'] = df.groupby('patient_id')['date'].diff().dt.days\n",
    "    return df\n",
    "\n",
    "# Define function for Sessa Empirical Estimator\n",
    "def sessa_estimator(df, threshold=30):\n",
    "    df['persistent'] = (df['gap_days'] <= threshold).astype(int)\n",
    "    return df\n",
    "\n",
    "# Apply functions\n",
    "df = calculate_gaps(df)\n",
    "df = sessa_estimator(df)\n",
    "\n",
    "df.head()"
   ]
  },
  {
   "cell_type": "code",
   "execution_count": null,
   "id": "72dc5d92",
   "metadata": {},
   "outputs": [],
   "source": [
    "# Prepare data for clustering\n",
    "features = ['gap_days', 'persistent']\n",
    "df_filtered = df.dropna(subset=features)\n",
    "\n",
    "# Standardize data\n",
    "scaler = StandardScaler()\n",
    "df_scaled = scaler.fit_transform(df_filtered[features])"
   ]
  },
  {
   "cell_type": "code",
   "execution_count": null,
   "id": "26371503",
   "metadata": {},
   "outputs": [],
   "source": [
    "# Apply K-Means Clustering\n",
    "kmeans = KMeans(n_clusters=3, random_state=42)\n",
    "df_filtered['kmeans_cluster'] = kmeans.fit_predict(df_scaled)\n",
    "\n",
    "# Compute Silhouette Score for K-Means\n",
    "kmeans_silhouette = silhouette_score(df_scaled, df_filtered['kmeans_cluster'])\n",
    "\n",
    "# Visualize K-Means Clustering\n",
    "plt.figure(figsize=(8,6))\n",
    "sns.scatterplot(x=df_filtered['gap_days'], y=df_filtered['persistent'], hue=df_filtered['kmeans_cluster'], palette=\"viridis\")\n",
    "plt.title(f\"K-Means Clustering of Medication Persistence (Silhouette Score: {kmeans_silhouette:.2f})\")\n",
    "plt.show()"
   ]
  },
  {
   "cell_type": "code",
   "execution_count": null,
   "id": "37a9c372",
   "metadata": {},
   "outputs": [],
   "source": [
    "# Apply DBSCAN Clustering\n",
    "dbscan = DBSCAN(eps=0.5, min_samples=5)\n",
    "df_filtered['dbscan_cluster'] = dbscan.fit_predict(df_scaled)\n",
    "\n",
    "# Compute Silhouette Score for DBSCAN (ignoring noise points)\n",
    "dbscan_clusters = df_filtered[df_filtered['dbscan_cluster'] != -1]\n",
    "if not dbscan_clusters.empty:\n",
    "    dbscan_silhouette = silhouette_score(df_scaled[dbscan_clusters.index], dbscan_clusters['dbscan_cluster'])\n",
    "else:\n",
    "    dbscan_silhouette = \"N/A\"\n",
    "\n",
    "# Visualize DBSCAN Clustering\n",
    "plt.figure(figsize=(8,6))\n",
    "sns.scatterplot(x=df_filtered['gap_days'], y=df_filtered['persistent'], hue=df_filtered['dbscan_cluster'], palette=\"coolwarm\")\n",
    "plt.title(f\"DBSCAN Clustering of Medication Persistence (Silhouette Score: {dbscan_silhouette})\")\n",
    "plt.show()"
   ]
  },
  {
   "cell_type": "code",
   "execution_count": null,
   "id": "53405671",
   "metadata": {},
   "outputs": [],
   "source": [
    "# Save processed dataset\n",
    "df_filtered.to_csv(\"/mnt/data/processed_ATC_clusters.csv\", index=False)\n",
    "\n",
    "# Compare Cluster Sizes\n",
    "print(\"K-Means Cluster Counts:\\n\", df_filtered['kmeans_cluster'].value_counts())\n",
    "print(\"\\nDBSCAN Cluster Counts:\\n\", df_filtered['dbscan_cluster'].value_counts())"
   ]
  }
 ],
 "metadata": {},
 "nbformat": 4,
 "nbformat_minor": 5
}
