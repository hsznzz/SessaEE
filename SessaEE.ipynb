{
 "cells": [
  {
   "cell_type": "code",
   "execution_count": 35,
   "id": "5508a586-f729-49cb-aea6-c64e6a53635e",
   "metadata": {},
   "outputs": [],
   "source": [
    "import os\n",
    "os.environ[\"OMP_NUM_THREADS\"] = \"4\"  # Further reduce parallel processing issues\n",
    "\n",
    "\n",
    "import pandas as pd\n",
    "import numpy as np\n",
    "import statsmodels.api as sm\n",
    "from sklearn.cluster import KMeans, DBSCAN\n",
    "from sklearn.metrics import silhouette_score\n",
    "from sklearn.preprocessing import StandardScaler\n",
    "import matplotlib.pyplot as plt\n",
    "import seaborn as sns"
   ]
  },
  {
   "cell_type": "code",
   "execution_count": 28,
   "id": "8b81a0c5-b585-423e-8435-bea11e540bed",
   "metadata": {},
   "outputs": [
    {
     "name": "stdout",
     "output_type": "stream",
     "text": [
      "✅ Data loaded and preprocessed.\n"
     ]
    }
   ],
   "source": [
    "# Step 1: Load & Preprocess Data\n",
    "def load_and_preprocess(file_path):\n",
    "    df = pd.read_csv(file_path)\n",
    "    df.columns = [\"pnr\", \"eksd\", \"perday\", \"ATC\", \"dur_original\"]\n",
    "    df[\"eksd\"] = pd.to_datetime(df[\"eksd\"])\n",
    "    df = df.sort_values(by=[\"pnr\", \"eksd\"])\n",
    "    print(\"✅ Data loaded and preprocessed.\")\n",
    "    return df\n",
    "\n",
    "df = load_and_preprocess(\"ATC_med_events.csv\")"
   ]
  },
  {
   "cell_type": "code",
   "execution_count": 29,
   "id": "481e2614-9d40-4e55-b176-9558f79621f3",
   "metadata": {},
   "outputs": [
    {
     "name": "stdout",
     "output_type": "stream",
     "text": [
      "✅ Event intervals computed.\n",
      "✅ Retained lower 80% of ECDF.\n"
     ]
    }
   ],
   "source": [
    "# Step 2: Compute Event Intervals\n",
    "def compute_event_intervals(df):\n",
    "    df[\"prev_eksd\"] = df.groupby(\"pnr\")[\"eksd\"].shift(1)\n",
    "    df[\"event_interval\"] = (df[\"eksd\"] - df[\"prev_eksd\"]).dt.days\n",
    "    df = df.dropna()\n",
    "    print(\"✅ Event intervals computed.\")\n",
    "    return df\n",
    "\n",
    "df = compute_event_intervals(df)\n",
    "\n",
    "# Step 3: Generate ECDF & Retain 80%\n",
    "def retain_lower_ecdf(df, threshold=0.8):\n",
    "    ecdf = sm.distributions.ECDF(df[\"event_interval\"])\n",
    "    df[\"ecdf\"] = ecdf(df[\"event_interval\"])\n",
    "    df = df[df[\"ecdf\"] <= threshold]\n",
    "    print(\"✅ Retained lower 80% of ECDF.\")\n",
    "    return df\n",
    "\n",
    "df = retain_lower_ecdf(df)"
   ]
  },
  {
   "cell_type": "code",
   "execution_count": null,
   "id": "c978d394-ac1c-483f-bbbc-2de42937a3af",
   "metadata": {},
   "outputs": [],
   "source": []
  }
 ],
 "metadata": {
  "kernelspec": {
   "display_name": "Python 3 (ipykernel)",
   "language": "python",
   "name": "python3"
  },
  "language_info": {
   "codemirror_mode": {
    "name": "ipython",
    "version": 3
   },
   "file_extension": ".py",
   "mimetype": "text/x-python",
   "name": "python",
   "nbconvert_exporter": "python",
   "pygments_lexer": "ipython3",
   "version": "3.11.7"
  }
 },
 "nbformat": 4,
 "nbformat_minor": 5
}
